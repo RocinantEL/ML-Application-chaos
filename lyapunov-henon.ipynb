{
 "cells": [
  {
   "cell_type": "code",
   "execution_count": 1,
   "id": "33c8f384-fd4d-41ce-9dc5-e9975196f0f6",
   "metadata": {
    "tags": []
   },
   "outputs": [],
   "source": [
    "import sympy as smp\n",
    "import numpy as np\n",
    "import matplotlib.pyplot as plt\n",
    "import math\n",
    "from sklearn.decomposition import PCA # Principal component analysis\n",
    "import torch # Neural network training and inference\n",
    "from sklearn.preprocessing import PolynomialFeatures\n",
    "from sklearn.linear_model import LinearRegression\n",
    "from numpy.linalg import eig\n",
    "from sklearn.model_selection import train_test_split\n",
    "from sklearn.metrics import mean_squared_error, r2_score\n",
    "import statsmodels.api as sm\n",
    "import patsy\n",
    "\n",
    "# Parameters which AI Poincare and PullNN classes are using for inference\n",
    "PREPROCESS_EIGENVALUE_THRESHOLD = 0.001 # Threshold for linear invariant\n",
    "PULLNN_HIDDEN_LAYERS = [256,256] # Pull NN hidden layers\n",
    "PULLNN_LEAKYRELU_SLOPE = 0 # Slope for the Leaky Rectified Linear Unit\n",
    "PULLNN_OPTIMIZER_TYPE = 'Adam' # Either Adam or SGD\n",
    "PULLNN_LEARNING_RATE = 0.001 # Learning rate for optimization\n",
    "PULLNN_BATCH_SIZE = 1024 # Batch size for training\n",
    "PULLNN_TRAIN_ITER = 500 # Number of training iterations\n",
    "PULLNN_TRAIN_LOGITER = 200 # Log after every given number of iterations\n",
    "NEFF_NPOINTS = 100 # Number of starting points for estimating Neff\n",
    "NEFF_WALK_STEPS = 2000 # Number of random walk steps to estimate Neff\n",
    "NEFF_FORMULA_A = 2"
   ]
  },
  {
   "cell_type": "code",
   "execution_count": 2,
   "id": "10530576-8183-44f9-b652-8a70aa606938",
   "metadata": {
    "tags": []
   },
   "outputs": [],
   "source": [
    "def henon_heiles(t, y, lmbda):\n",
    "    x, y, px, py = y\n",
    "    \n",
    "    # Equations of motion\n",
    "    dxdt = px\n",
    "    dydt = py\n",
    "    dpxdt = -x - 2 * lmbda * x * y\n",
    "    dpydt = -y - lmbda * (x**2 - y**2)\n",
    "    \n",
    "    return np.array([dxdt, dydt, dpxdt, dpydt])\n",
    "\n",
    "def runge_kutta_45_henon_heiles(t0, y0, h, T, lmbda):\n",
    "    t_values = [t0]\n",
    "    y_values = [y0]\n",
    "\n",
    "    num_steps = int((T - t0) / h)\n",
    "\n",
    "    for _ in range(num_steps):\n",
    "        t = t_values[-1]\n",
    "        y = y_values[-1]\n",
    "\n",
    "        k1 = h * henon_heiles(t, y, lmbda)\n",
    "        k2 = h * henon_heiles(t + 1/4 * h, y + 1/4 * k1, lmbda)\n",
    "        k3 = h * henon_heiles(t + 3/8 * h, y + 3/32 * k1 + 9/32 * k2, lmbda)\n",
    "        k4 = h * henon_heiles(t + 12/13 * h, y + 1932/2197 * k1 - 7200/2197 * k2 + 7296/2197 * k3, lmbda)\n",
    "        k5 = h * henon_heiles(t + h, y + 439/216 * k1 - 8 * k2 + 3680/513 * k3 - 845/4104 * k4, lmbda)\n",
    "        k6 = h * henon_heiles(t + 1/2 * h, y - 8/27 * k1 + 2 * k2 - 3544/2565 * k3 + 1859/4104 * k4 - 11/40 * k5, lmbda)\n",
    "\n",
    "        y_new = y + 25/216 * k1 + 1408/2565 * k3 + 2197/4104 * k4 - 1/5 * k5\n",
    "\n",
    "        t_values.append(t + h)\n",
    "        y_values.append(y_new)\n",
    "\n",
    "    return np.array(t_values), np.array(y_values)"
   ]
  },
  {
   "cell_type": "code",
   "execution_count": 3,
   "id": "d6040598-c3da-42dd-9bb0-7ea84d6e4d2a",
   "metadata": {
    "tags": []
   },
   "outputs": [],
   "source": [
    "# Initialize the parameters\n",
    "\n",
    "tmin = 0\n",
    "\n",
    "in_cons  = np.array([0, 0.82, 0.1232, 0])  # Initial conditions [x, y, px, py]\n",
    "in_cons1 = np.array([0, 0.82, 0.12320001, 0])  # Initial conditions [x, y, px, py]\n",
    "\n",
    "dt = 0.01  # Step size\n",
    "tmax = np.linspace(1,240,35)  # End time"
   ]
  },
  {
   "cell_type": "code",
   "execution_count": 4,
   "id": "8c1fa581-f1a0-40e8-8206-bfcd4ef6d8f1",
   "metadata": {
    "tags": []
   },
   "outputs": [
    {
     "name": "stdout",
     "output_type": "stream",
     "text": [
      "Done!\n",
      "Done!\n",
      "Done!\n",
      "Done!\n",
      "Done!\n",
      "Done!\n",
      "Done!\n",
      "Done!\n",
      "Done!\n",
      "Done!\n",
      "Done!\n",
      "Done!\n",
      "Done!\n",
      "Done!\n",
      "Done!\n",
      "Done!\n",
      "Done!\n",
      "Done!\n",
      "Done!\n",
      "Done!\n",
      "Done!\n",
      "Done!\n",
      "Done!\n",
      "Done!\n",
      "Done!\n",
      "Done!\n",
      "Done!\n",
      "Done!\n",
      "Done!\n",
      "Done!\n",
      "Done!\n",
      "Done!\n",
      "Done!\n",
      "Done!\n",
      "Done!\n"
     ]
    }
   ],
   "source": [
    "eiglyap = []\n",
    "for i in range(len(tmax)):\n",
    "    \n",
    "\n",
    "    ##################################################################################################################################################\n",
    "\n",
    "    t_values, variable_values = runge_kutta_45_henon_heiles(tmin, in_cons, dt, tmax[i],1)\n",
    "    x_values, y_values, px_values, py_values= np.array(variable_values).T\n",
    "    \n",
    "    t_values1, variable_values1 = runge_kutta_45_henon_heiles(tmin, in_cons1, dt, tmax[i],1)\n",
    "    x_values1, y_values1, px_values1, py_values1= np.array(variable_values1).T\n",
    "    \n",
    "    ################################################################################################################################################# \n",
    "    \n",
    "    xnew = x_values1 - x_values\n",
    "    ynew = y_values1 - y_values\n",
    "    pxnew = px_values1 - px_values\n",
    "    pydnew = py_values1 - py_values\n",
    "    \n",
    "    dat = []\n",
    "    dat.append(xnew)\n",
    "    dat.append(ynew)\n",
    "    dat.append(pxnew)\n",
    "    dat.append(pydnew)\n",
    "\n",
    "    data = np.array(dat).T\n",
    "    \n",
    "    ##################################################################################################################################################\n",
    "    \n",
    "    \n",
    "    # Train this data by AIPoincare with a certain training length-scale\n",
    "    from aipoincare1_lib import AIPoincare\n",
    "    som = AIPoincare(data)\n",
    "    Larray = np.logspace(0,2.3,10)/100\n",
    "    som.run([Larray[6]])\n",
    "    \n",
    "    ##################################################################################################################################################\n",
    "    # Prewhitening part of the algorithm\n",
    "    PREPROCESS_EIGENVALUE_THRESHOLD = 0.001\n",
    "    \n",
    "    # Step 1: Normalized trajectory\n",
    "    mean_trajectory_data = np.mean(data, axis=0)\n",
    "    std_trajectory_data = np.std(data, axis=0)\n",
    "    trajectory_data_normalized0 = (data -\n",
    "                    mean_trajectory_data[np.newaxis,:])\\\n",
    "                            /std_trajectory_data\n",
    "    \n",
    "    # Step 2: Principal Component Analysis to extract linear invariants\n",
    "    pca = PCA() # Get the PCA object\n",
    "    transformed_data = pca.fit_transform(trajectory_data_normalized0)\n",
    "    eigs_above_threshold = np.sum(pca.explained_variance_ratio_\n",
    "                        > PREPROCESS_EIGENVALUE_THRESHOLD)\n",
    "    data1 = transformed_data[:,:eigs_above_threshold]\n",
    "    std_data = np.std(transformed_data,axis=0)\n",
    "    change_of_basis = pca.components_\n",
    "    inverse = np.linalg.inv(change_of_basis)\n",
    "    \n",
    "    \n",
    "    # Step 3: Scaling again for isotropy\n",
    "    trajectory_data_normalized = transformed_data/(std_data[np.newaxis,:]+PREPROCESS_EIGENVALUE_THRESHOLD)\n",
    "    \n",
    "    dim0 = data.shape[0]\n",
    "    dim1 = data.shape[1]\n",
    "    ##################################################################################################################################################\n",
    "    \n",
    "    nnwidths = som.nn_widths # Neural network architecture\n",
    "    inf = som.nn_state_dict_list # Some information of trained neural network\n",
    "    from aipoincare1_lib import PullNN\n",
    "    pullnn = PullNN(nnwidths) # Set up a fresh network\n",
    "    pullnn.load_state_dict(inf[0])\n",
    "    \n",
    "    eigenvalues = []\n",
    "    for jj in range(NEFF_NPOINTS): # Iterate to choose random points\n",
    "        \n",
    "        ##############################################################################################################################################\n",
    "        # Generate random perturbations to the point\n",
    "        choice = np.random.choice(len(data))\n",
    "        perturb = torch.normal(0, Larray[3], size = (NEFF_WALK_STEPS,\n",
    "            dim1), dtype=torch.float)\n",
    "        # Create a bunch of points in the neighborhood\n",
    "        x0 = torch.tensor(trajectory_data_normalized[choice], dtype=torch.float) + perturb\n",
    "        # Try to walk all the points back to the manifold and convert the\n",
    "        # torch tensor to numpy matrix data where required.\n",
    "        # The Pull Network calculates the distance to the closest point in the\n",
    "        # manifold. So to get back to the manifold we need to add x0. This is\n",
    "        # different from how the paper is phrased. Not sure why this helps.\n",
    "        pull_back = pullnn(x0).detach() # Detach from the network\n",
    "        # Pull back all points to the local tangent plane.\n",
    "        x0 = x0 + pull_back\n",
    "        x1 = x0.tolist()\n",
    "        #Convert data to nonscaled case for checking the invariants\n",
    "        # 1)scaling, 2)pca, 3)scaling again\n",
    "        # Have to go back from where we began\n",
    "        x11 = np.array(x1)*(std_data[np.newaxis,:]+PREPROCESS_EIGENVALUE_THRESHOLD)\n",
    "        x12 = np.matmul(inverse,x11.T).T\n",
    "        x2 = x12*(std_trajectory_data)+mean_trajectory_data[np.newaxis,:]\n",
    "        \n",
    "        # Step 3: Find the dimensionality of the local set of points\n",
    "        pca = PCA() # Declare a Principal Component Analysis object\n",
    "        pca.fit(x2) # Try to fit to the trajectory data\n",
    "        svs = pca.singular_values_ # Get the eigenvalues\n",
    "        eigenvalues.append(svs)\n",
    "        ##############################################################################################################################################\n",
    "    \n",
    "    eigs = np.array(eigenvalues)\n",
    "    lambdas = np.mean(eigs,axis=0)\n",
    "    eiglyap.append(lambdas)\n",
    "    \n",
    "variations = np.array(eiglyap)"
   ]
  },
  {
   "cell_type": "code",
   "execution_count": 5,
   "id": "b5de9ffa-d77b-4a10-9f4b-b0d066926b57",
   "metadata": {
    "tags": []
   },
   "outputs": [],
   "source": [
    "lyapunov = []\n",
    "for i in range(len(tmax)):\n",
    "    lyapunov.append( np.mean(np.log(variations[i]/variations[0])/tmax[i]) )\n",
    "    \n",
    "lyapunovs = np.array(lyapunov)"
   ]
  },
  {
   "cell_type": "code",
   "execution_count": 6,
   "id": "7b71a4ba-35cf-443e-a995-451eb1be6ff6",
   "metadata": {
    "tags": []
   },
   "outputs": [
    {
     "data": {
      "image/png": "[encoded data removed]",
      "text/plain": [
       "<Figure size 640x480 with 1 Axes>"
      ]
     },
     "metadata": {},
     "output_type": "display_data"
    }
   ],
   "source": [
    "plt.plot(tmax,lyapunovs)\n",
    "plt.xlabel('time', fontsize=24)\n",
    "plt.ylabel(r'$\\lambda$', fontsize=24)\n",
    "plt.xticks(size = 15)\n",
    "plt.yticks(size = 15)\n",
    "plt.savefig('henon_lyap.pdf')\n",
    "plt.show()"
   ]
  },
  {
   "cell_type": "code",
   "execution_count": 7,
   "id": "33210b43-1b98-41ed-9423-d34d7a8ff5c4",
   "metadata": {
    "tags": []
   },
   "outputs": [
    {
     "data": {
      "text/plain": [
       "array([0.        , 0.41906755, 0.32267393, 0.27611199, 0.22920163,\n",
       "       0.19230389, 0.16440006, 0.14545351, 0.13752856, 0.12595799,\n",
       "       0.12129191, 0.11520846, 0.10386688, 0.09930127, 0.09547894,\n",
       "       0.09069969, 0.08864604, 0.08729509, 0.08690203, 0.08361472,\n",
       "       0.08449007, 0.08554083, 0.08951596, 0.08996943, 0.08794683,\n",
       "       0.09018885, 0.08814755, 0.09055853, 0.09130086, 0.09093762,\n",
       "       0.09045551, 0.08870244, 0.08971284, 0.09011371, 0.08863273])"
      ]
     },
     "execution_count": 7,
     "metadata": {},
     "output_type": "execute_result"
    }
   ],
   "source": [
    "lyapunovs"
   ]
  }
 ],
 "metadata": {
  "kernelspec": {
   "display_name": "Python 3 (ipykernel)",
   "language": "python",
   "name": "python3"
  },
  "language_info": {
   "codemirror_mode": {
    "name": "ipython",
    "version": 3
   },
   "file_extension": ".py",
   "mimetype": "text/x-python",
   "name": "python",
   "nbconvert_exporter": "python",
   "pygments_lexer": "ipython3",
   "version": "3.11.3"
  }
 },
 "nbformat": 4,
 "nbformat_minor": 5
}
